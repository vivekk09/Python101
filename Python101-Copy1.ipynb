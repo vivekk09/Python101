{
 "cells": [
  {
   "cell_type": "code",
   "execution_count": 1,
   "metadata": {},
   "outputs": [],
   "source": [
    "import pandas as pd"
   ]
  },
  {
   "cell_type": "code",
   "execution_count": 2,
   "metadata": {},
   "outputs": [
    {
     "data": {
      "text/plain": [
       "0         mango\n",
       "1     chocolate\n",
       "2    strawberry\n",
       "3       vanilla\n",
       "dtype: object"
      ]
     },
     "execution_count": 2,
     "metadata": {},
     "output_type": "execute_result"
    }
   ],
   "source": [
    "\n",
    "icecream=['mango', 'chocolate', 'strawberry', 'vanilla']\n",
    "pd.Series(icecream)"
   ]
  },
  {
   "cell_type": "code",
   "execution_count": 3,
   "metadata": {},
   "outputs": [
    {
     "data": {
      "text/plain": [
       "0      fiction\n",
       "1    biography\n",
       "2        drama\n",
       "3      science\n",
       "dtype: object"
      ]
     },
     "execution_count": 3,
     "metadata": {},
     "output_type": "execute_result"
    }
   ],
   "source": [
    "book=['fiction', 'biography', 'drama', 'science']\n",
    "b=pd.Series(book)\n",
    "b\n"
   ]
  },
  {
   "cell_type": "code",
   "execution_count": 4,
   "metadata": {},
   "outputs": [
    {
     "data": {
      "text/plain": [
       "array(['fiction', 'biography', 'drama', 'science'], dtype=object)"
      ]
     },
     "execution_count": 4,
     "metadata": {},
     "output_type": "execute_result"
    }
   ],
   "source": [
    "b.values"
   ]
  },
  {
   "cell_type": "code",
   "execution_count": 5,
   "metadata": {},
   "outputs": [
    {
     "data": {
      "text/plain": [
       "RangeIndex(start=0, stop=4, step=1)"
      ]
     },
     "execution_count": 5,
     "metadata": {},
     "output_type": "execute_result"
    }
   ],
   "source": [
    "b.index"
   ]
  },
  {
   "cell_type": "code",
   "execution_count": 6,
   "metadata": {},
   "outputs": [
    {
     "data": {
      "text/plain": [
       "dtype('O')"
      ]
     },
     "execution_count": 6,
     "metadata": {},
     "output_type": "execute_result"
    }
   ],
   "source": [
    "b.dtype"
   ]
  },
  {
   "cell_type": "code",
   "execution_count": 7,
   "metadata": {},
   "outputs": [
    {
     "data": {
      "text/plain": [
       "0    100.0\n",
       "1     20.3\n",
       "2    450.0\n",
       "3    120.6\n",
       "dtype: float64"
      ]
     },
     "execution_count": 7,
     "metadata": {},
     "output_type": "execute_result"
    }
   ],
   "source": [
    "price=[100, 20.3, 450, 120.6]\n",
    "p=pd.Series(price)\n",
    "p"
   ]
  },
  {
   "cell_type": "code",
   "execution_count": 8,
   "metadata": {},
   "outputs": [
    {
     "data": {
      "text/plain": [
       "690.9"
      ]
     },
     "execution_count": 8,
     "metadata": {},
     "output_type": "execute_result"
    }
   ],
   "source": [
    "p.sum()"
   ]
  },
  {
   "cell_type": "code",
   "execution_count": 9,
   "metadata": {},
   "outputs": [
    {
     "data": {
      "text/plain": [
       "110168100.0"
      ]
     },
     "execution_count": 9,
     "metadata": {},
     "output_type": "execute_result"
    }
   ],
   "source": [
    "p.product()"
   ]
  },
  {
   "cell_type": "code",
   "execution_count": 10,
   "metadata": {},
   "outputs": [
    {
     "data": {
      "text/plain": [
       "172.725"
      ]
     },
     "execution_count": 10,
     "metadata": {},
     "output_type": "execute_result"
    }
   ],
   "source": [
    "p.mean()"
   ]
  },
  {
   "cell_type": "code",
   "execution_count": 11,
   "metadata": {},
   "outputs": [
    {
     "data": {
      "text/plain": [
       "fiction      100.0\n",
       "biography     20.3\n",
       "drama        450.0\n",
       "science      120.6\n",
       "dtype: float64"
      ]
     },
     "execution_count": 11,
     "metadata": {},
     "output_type": "execute_result"
    }
   ],
   "source": [
    "book=['fiction', 'biography', 'drama', 'science']\n",
    "price=[100, 20.3, 450, 120.6]\n",
    "pd.Series(book, price) \n",
    "pd.Series(data=price, index=book)  "
   ]
  },
  {
   "cell_type": "code",
   "execution_count": 12,
   "metadata": {},
   "outputs": [
    {
     "data": {
      "text/html": [
       "<div>\n",
       "<style scoped>\n",
       "    .dataframe tbody tr th:only-of-type {\n",
       "        vertical-align: middle;\n",
       "    }\n",
       "\n",
       "    .dataframe tbody tr th {\n",
       "        vertical-align: top;\n",
       "    }\n",
       "\n",
       "    .dataframe thead th {\n",
       "        text-align: right;\n",
       "    }\n",
       "</style>\n",
       "<table border=\"1\" class=\"dataframe\">\n",
       "  <thead>\n",
       "    <tr style=\"text-align: right;\">\n",
       "      <th></th>\n",
       "      <th>No. of cars</th>\n",
       "      <th>Type</th>\n",
       "      <th>Min.Price</th>\n",
       "      <th>Price</th>\n",
       "      <th>Max.Price</th>\n",
       "      <th>Range.Price</th>\n",
       "      <th>RoughRange</th>\n",
       "      <th>gpm100</th>\n",
       "      <th>MPG.city</th>\n",
       "      <th>MPG.highway</th>\n",
       "    </tr>\n",
       "  </thead>\n",
       "  <tbody>\n",
       "    <tr>\n",
       "      <th>0</th>\n",
       "      <td>6</td>\n",
       "      <td>Midsize</td>\n",
       "      <td>14.2</td>\n",
       "      <td>15.7</td>\n",
       "      <td>17.3</td>\n",
       "      <td>3.1</td>\n",
       "      <td>3.09</td>\n",
       "      <td>3.8</td>\n",
       "      <td>22.0</td>\n",
       "      <td>31</td>\n",
       "    </tr>\n",
       "    <tr>\n",
       "      <th>1</th>\n",
       "      <td>7</td>\n",
       "      <td>Large</td>\n",
       "      <td>19.9</td>\n",
       "      <td>20.8</td>\n",
       "      <td>21.7</td>\n",
       "      <td>1.8</td>\n",
       "      <td>1.79</td>\n",
       "      <td>4.2</td>\n",
       "      <td>19.0</td>\n",
       "      <td>28</td>\n",
       "    </tr>\n",
       "    <tr>\n",
       "      <th>2</th>\n",
       "      <td>8</td>\n",
       "      <td>Large</td>\n",
       "      <td>22.6</td>\n",
       "      <td>23.7</td>\n",
       "      <td>24.9</td>\n",
       "      <td>2.3</td>\n",
       "      <td>2.31</td>\n",
       "      <td>4.9</td>\n",
       "      <td>NaN</td>\n",
       "      <td>25</td>\n",
       "    </tr>\n",
       "    <tr>\n",
       "      <th>3</th>\n",
       "      <td>9</td>\n",
       "      <td>Midsize</td>\n",
       "      <td>26.3</td>\n",
       "      <td>26.3</td>\n",
       "      <td>26.3</td>\n",
       "      <td>0.0</td>\n",
       "      <td>-0.01</td>\n",
       "      <td>4.3</td>\n",
       "      <td>19.0</td>\n",
       "      <td>27</td>\n",
       "    </tr>\n",
       "    <tr>\n",
       "      <th>4</th>\n",
       "      <td>10</td>\n",
       "      <td>Large</td>\n",
       "      <td>33.0</td>\n",
       "      <td>34.7</td>\n",
       "      <td>36.3</td>\n",
       "      <td>3.3</td>\n",
       "      <td>3.30</td>\n",
       "      <td>4.9</td>\n",
       "      <td>16.0</td>\n",
       "      <td>25</td>\n",
       "    </tr>\n",
       "    <tr>\n",
       "      <th>5</th>\n",
       "      <td>11</td>\n",
       "      <td>Midsize</td>\n",
       "      <td>37.5</td>\n",
       "      <td>40.1</td>\n",
       "      <td>42.7</td>\n",
       "      <td>5.2</td>\n",
       "      <td>5.18</td>\n",
       "      <td>4.9</td>\n",
       "      <td>16.0</td>\n",
       "      <td>25</td>\n",
       "    </tr>\n",
       "    <tr>\n",
       "      <th>6</th>\n",
       "      <td>12</td>\n",
       "      <td>Compact</td>\n",
       "      <td>8.5</td>\n",
       "      <td>13.4</td>\n",
       "      <td>18.3</td>\n",
       "      <td>9.8</td>\n",
       "      <td>9.80</td>\n",
       "      <td>3.3</td>\n",
       "      <td>25.0</td>\n",
       "      <td>36</td>\n",
       "    </tr>\n",
       "    <tr>\n",
       "      <th>7</th>\n",
       "      <td>13</td>\n",
       "      <td>Compact</td>\n",
       "      <td>11.4</td>\n",
       "      <td>11.4</td>\n",
       "      <td>11.4</td>\n",
       "      <td>0.0</td>\n",
       "      <td>-0.01</td>\n",
       "      <td>3.4</td>\n",
       "      <td>25.0</td>\n",
       "      <td>34</td>\n",
       "    </tr>\n",
       "    <tr>\n",
       "      <th>8</th>\n",
       "      <td>14</td>\n",
       "      <td>Sporty</td>\n",
       "      <td>13.4</td>\n",
       "      <td>15.1</td>\n",
       "      <td>16.8</td>\n",
       "      <td>3.4</td>\n",
       "      <td>3.38</td>\n",
       "      <td>4.2</td>\n",
       "      <td>19.0</td>\n",
       "      <td>28</td>\n",
       "    </tr>\n",
       "    <tr>\n",
       "      <th>9</th>\n",
       "      <td>15</td>\n",
       "      <td>Midsize</td>\n",
       "      <td>13.4</td>\n",
       "      <td>15.9</td>\n",
       "      <td>18.4</td>\n",
       "      <td>5.0</td>\n",
       "      <td>5.01</td>\n",
       "      <td>4.0</td>\n",
       "      <td>21.0</td>\n",
       "      <td>29</td>\n",
       "    </tr>\n",
       "  </tbody>\n",
       "</table>\n",
       "</div>"
      ],
      "text/plain": [
       "   No. of cars     Type  Min.Price  Price  Max.Price  Range.Price  RoughRange  \\\n",
       "0            6  Midsize       14.2   15.7       17.3          3.1        3.09   \n",
       "1            7    Large       19.9   20.8       21.7          1.8        1.79   \n",
       "2            8    Large       22.6   23.7       24.9          2.3        2.31   \n",
       "3            9  Midsize       26.3   26.3       26.3          0.0       -0.01   \n",
       "4           10    Large       33.0   34.7       36.3          3.3        3.30   \n",
       "5           11  Midsize       37.5   40.1       42.7          5.2        5.18   \n",
       "6           12  Compact        8.5   13.4       18.3          9.8        9.80   \n",
       "7           13  Compact       11.4   11.4       11.4          0.0       -0.01   \n",
       "8           14   Sporty       13.4   15.1       16.8          3.4        3.38   \n",
       "9           15  Midsize       13.4   15.9       18.4          5.0        5.01   \n",
       "\n",
       "   gpm100  MPG.city  MPG.highway  \n",
       "0     3.8      22.0           31  \n",
       "1     4.2      19.0           28  \n",
       "2     4.9       NaN           25  \n",
       "3     4.3      19.0           27  \n",
       "4     4.9      16.0           25  \n",
       "5     4.9      16.0           25  \n",
       "6     3.3      25.0           36  \n",
       "7     3.4      25.0           34  \n",
       "8     4.2      19.0           28  \n",
       "9     4.0      21.0           29  "
      ]
     },
     "execution_count": 12,
     "metadata": {},
     "output_type": "execute_result"
    }
   ],
   "source": [
    "file=pd.read_csv(\"carprice.csv\", squeeze=True) \n",
    "file.head(10)\n"
   ]
  },
  {
   "cell_type": "code",
   "execution_count": 13,
   "metadata": {},
   "outputs": [
    {
     "data": {
      "text/plain": [
       "array([[6, 'Midsize', 14.2, 15.7, 17.3, 3.1, 3.09, 3.8, 22.0, 31],\n",
       "       [7, 'Large', 19.9, 20.8, 21.7, 1.8, 1.79, 4.2, 19.0, 28],\n",
       "       [8, 'Large', 22.6, 23.7, 24.9, 2.3, 2.31, 4.9, nan, 25],\n",
       "       [9, 'Midsize', 26.3, 26.3, 26.3, 0.0, -0.01, 4.3, 19.0, 27],\n",
       "       [10, 'Large', 33.0, 34.7, 36.3, 3.3, 3.3, 4.9, 16.0, 25],\n",
       "       [11, 'Midsize', 37.5, 40.1, 42.7, 5.2, 5.18, 4.9, 16.0, 25],\n",
       "       [12, 'Compact', 8.5, 13.4, 18.3, 9.8, 9.8, 3.3, 25.0, 36],\n",
       "       [13, 'Compact', 11.4, 11.4, 11.4, 0.0, -0.01, 3.4, 25.0, 34],\n",
       "       [14, 'Sporty', 13.4, 15.1, 16.8, 3.4, 3.38, 4.2, 19.0, 28],\n",
       "       [15, 'Midsize', 13.4, 15.9, 18.4, 5.0, 5.01, 4.0, 21.0, 29],\n",
       "       [16, 'Van', 14.7, 16.3, 18.0, 3.3, 3.31, 4.9, 18.0, 23],\n",
       "       [17, 'Van', 14.7, 16.6, 18.6, 3.9, 3.9, 5.7, 15.0, 20],\n",
       "       [18, 'Large', 18.0, 18.8, 19.6, 1.6, 1.6, 4.7, 17.0, 26],\n",
       "       [19, 'Sporty', 34.6, 38.0, 41.5, 6.9, 6.88, 4.8, 17.0, 25],\n",
       "       [20, 'Large', 18.4, 18.4, 18.4, 0.0, -0.01, 4.2, 20.0, 28],\n",
       "       [21, 'Compact', 14.5, 15.8, 17.1, 2.6, 2.59, 3.9, 23.0, 28],\n",
       "       [22, 'Large', 29.5, 29.5, 29.5, 0.0, 0.02, 4.3, 20.0, 26],\n",
       "       [23, 'Small', 7.9, 9.2, 10.6, 2.7, 2.68, 3.2, 29.0, 33],\n",
       "       [24, 'Small', 8.4, 11.3, 14.2, 5.8, 5.8, 3.8, 23.0, 29],\n",
       "       [25, 'Compact', 11.9, 13.3, 14.7, 2.8, 2.81, 4.1, 22.0, 27],\n",
       "       [26, 'Van', 13.6, 19.0, 24.4, 10.8, 10.77, 5.3, 17.0, 21],\n",
       "       [27, 'Midsize', 14.8, 15.6, 16.4, 1.6, 1.6, 4.2, 21.0, 27],\n",
       "       [28, 'Sporty', 18.5, 25.8, 33.1, 14.6, 14.6, 4.8, 18.0, 24],\n",
       "       [29, 'Small', 7.9, 12.2, 16.5, 8.6, 8.6, 3.2, 29.0, 33],\n",
       "       [30, 'Large', 17.5, 19.3, 21.2, 3.7, 3.69, 4.2, 20.0, 28],\n",
       "       [31, 'Small', 6.9, 7.4, 7.9, 1.0, 1.0, 3.1, 31.0, 33],\n",
       "       [32, 'Small', 8.4, 10.1, 11.9, 3.5, 3.49, 3.8, 23.0, 30],\n",
       "       [33, 'Compact', 10.4, 11.3, 12.2, 1.8, 1.82, 4.1, 22.0, 27],\n",
       "       [34, 'Sporty', 10.8, 15.9, 21.0, 10.2, 10.21, 3.9, 22.0, 29],\n",
       "       [35, 'Sporty', 12.8, 14.0, 15.2, 2.4, 2.4, 3.7, 24.0, 30],\n",
       "       [36, 'Van', 14.5, 19.9, 25.3, 10.8, 10.82, 5.7, 15.0, 20],\n",
       "       [37, 'Midsize', 15.6, 20.2, 24.8, 9.2, 9.21, 3.9, 21.0, 30],\n",
       "       [38, 'Large', 20.1, 20.9, 21.7, 1.6, 1.59, 4.5, 18.0, 26],\n",
       "       [51, 'Midsize', 33.3, 34.3, 35.3, 2.0, 1.99, 4.7, 17.0, 26],\n",
       "       [52, 'Large', 34.4, 36.1, 37.8, 3.4, 3.42, 4.5, 18.0, 26],\n",
       "       [60, 'Sporty', 13.3, 14.1, 15.0, 1.7, 1.71, 4.1, 23.0, 26],\n",
       "       [61, 'Midsize', 14.9, 14.9, 14.9, 0.0, -0.02, 4.4, 19.0, 26],\n",
       "       [68, 'Compact', 13.0, 13.5, 14.0, 1.0, 0.99, 3.6, 24.0, 31],\n",
       "       [69, 'Midsize', 14.2, 16.3, 18.4, 4.2, 4.19, 3.7, 23.0, 31],\n",
       "       [70, 'Van', 19.5, 19.5, 19.5, 0.0, 0.0, 4.9, 18.0, 23],\n",
       "       [71, 'Large', 19.5, 20.7, 21.9, 2.4, 2.41, 4.2, 19.0, 28],\n",
       "       [72, 'Sporty', 11.4, 14.4, 17.4, 6.0, 6.01, 3.8, 23.0, 30],\n",
       "       [73, 'Small', 8.2, 9.0, 9.9, 1.7, 1.69, 2.8, 31.0, 41],\n",
       "       [74, 'Compact', 9.4, 11.1, 12.8, 3.4, 3.39, 3.7, 23.0, 31],\n",
       "       [75, 'Sporty', 14.0, 17.7, 21.4, 7.4, 7.4, 4.2, 19.0, 28],\n",
       "       [76, 'Midsize', 15.4, 18.5, 21.6, 6.2, 6.19, 4.3, 19.0, 27],\n",
       "       [77, 'Large', 19.4, 24.4, 29.4, 10.0, 10.0, 4.2, 19.0, 28],\n",
       "       [79, 'Small', 9.2, 11.1, 12.9, 3.7, 3.7, 3.0, 28.0, 38]],\n",
       "      dtype=object)"
      ]
     },
     "execution_count": 13,
     "metadata": {},
     "output_type": "execute_result"
    }
   ],
   "source": [
    "file.values "
   ]
  },
  {
   "cell_type": "code",
   "execution_count": 14,
   "metadata": {},
   "outputs": [
    {
     "data": {
      "text/plain": [
       "480"
      ]
     },
     "execution_count": 14,
     "metadata": {},
     "output_type": "execute_result"
    }
   ],
   "source": [
    "file.size "
   ]
  },
  {
   "cell_type": "code",
   "execution_count": 15,
   "metadata": {},
   "outputs": [
    {
     "data": {
      "text/plain": [
       "(48, 10)"
      ]
     },
     "execution_count": 15,
     "metadata": {},
     "output_type": "execute_result"
    }
   ],
   "source": [
    "file.shape "
   ]
  },
  {
   "cell_type": "code",
   "execution_count": 16,
   "metadata": {},
   "outputs": [
    {
     "data": {
      "text/html": [
       "<div>\n",
       "<style scoped>\n",
       "    .dataframe tbody tr th:only-of-type {\n",
       "        vertical-align: middle;\n",
       "    }\n",
       "\n",
       "    .dataframe tbody tr th {\n",
       "        vertical-align: top;\n",
       "    }\n",
       "\n",
       "    .dataframe thead th {\n",
       "        text-align: right;\n",
       "    }\n",
       "</style>\n",
       "<table border=\"1\" class=\"dataframe\">\n",
       "  <thead>\n",
       "    <tr style=\"text-align: right;\">\n",
       "      <th></th>\n",
       "      <th>No. of cars</th>\n",
       "      <th>Type</th>\n",
       "      <th>Min.Price</th>\n",
       "      <th>Price</th>\n",
       "      <th>Max.Price</th>\n",
       "      <th>Range.Price</th>\n",
       "      <th>RoughRange</th>\n",
       "      <th>gpm100</th>\n",
       "      <th>MPG.city</th>\n",
       "      <th>MPG.highway</th>\n",
       "    </tr>\n",
       "  </thead>\n",
       "  <tbody>\n",
       "    <tr>\n",
       "      <th>19</th>\n",
       "      <td>25</td>\n",
       "      <td>Compact</td>\n",
       "      <td>11.9</td>\n",
       "      <td>13.3</td>\n",
       "      <td>14.7</td>\n",
       "      <td>2.8</td>\n",
       "      <td>2.81</td>\n",
       "      <td>4.1</td>\n",
       "      <td>22.0</td>\n",
       "      <td>27</td>\n",
       "    </tr>\n",
       "    <tr>\n",
       "      <th>15</th>\n",
       "      <td>21</td>\n",
       "      <td>Compact</td>\n",
       "      <td>14.5</td>\n",
       "      <td>15.8</td>\n",
       "      <td>17.1</td>\n",
       "      <td>2.6</td>\n",
       "      <td>2.59</td>\n",
       "      <td>3.9</td>\n",
       "      <td>23.0</td>\n",
       "      <td>28</td>\n",
       "    </tr>\n",
       "    <tr>\n",
       "      <th>27</th>\n",
       "      <td>33</td>\n",
       "      <td>Compact</td>\n",
       "      <td>10.4</td>\n",
       "      <td>11.3</td>\n",
       "      <td>12.2</td>\n",
       "      <td>1.8</td>\n",
       "      <td>1.82</td>\n",
       "      <td>4.1</td>\n",
       "      <td>22.0</td>\n",
       "      <td>27</td>\n",
       "    </tr>\n",
       "    <tr>\n",
       "      <th>6</th>\n",
       "      <td>12</td>\n",
       "      <td>Compact</td>\n",
       "      <td>8.5</td>\n",
       "      <td>13.4</td>\n",
       "      <td>18.3</td>\n",
       "      <td>9.8</td>\n",
       "      <td>9.80</td>\n",
       "      <td>3.3</td>\n",
       "      <td>25.0</td>\n",
       "      <td>36</td>\n",
       "    </tr>\n",
       "    <tr>\n",
       "      <th>7</th>\n",
       "      <td>13</td>\n",
       "      <td>Compact</td>\n",
       "      <td>11.4</td>\n",
       "      <td>11.4</td>\n",
       "      <td>11.4</td>\n",
       "      <td>0.0</td>\n",
       "      <td>-0.01</td>\n",
       "      <td>3.4</td>\n",
       "      <td>25.0</td>\n",
       "      <td>34</td>\n",
       "    </tr>\n",
       "  </tbody>\n",
       "</table>\n",
       "</div>"
      ],
      "text/plain": [
       "    No. of cars     Type  Min.Price  Price  Max.Price  Range.Price  \\\n",
       "19           25  Compact       11.9   13.3       14.7          2.8   \n",
       "15           21  Compact       14.5   15.8       17.1          2.6   \n",
       "27           33  Compact       10.4   11.3       12.2          1.8   \n",
       "6            12  Compact        8.5   13.4       18.3          9.8   \n",
       "7            13  Compact       11.4   11.4       11.4          0.0   \n",
       "\n",
       "    RoughRange  gpm100  MPG.city  MPG.highway  \n",
       "19        2.81     4.1      22.0           27  \n",
       "15        2.59     3.9      23.0           28  \n",
       "27        1.82     4.1      22.0           27  \n",
       "6         9.80     3.3      25.0           36  \n",
       "7        -0.01     3.4      25.0           34  "
      ]
     },
     "execution_count": 16,
     "metadata": {},
     "output_type": "execute_result"
    }
   ],
   "source": [
    "file.sort_values('Type').head() "
   ]
  },
  {
   "cell_type": "code",
   "execution_count": 17,
   "metadata": {},
   "outputs": [
    {
     "data": {
      "text/html": [
       "<div>\n",
       "<style scoped>\n",
       "    .dataframe tbody tr th:only-of-type {\n",
       "        vertical-align: middle;\n",
       "    }\n",
       "\n",
       "    .dataframe tbody tr th {\n",
       "        vertical-align: top;\n",
       "    }\n",
       "\n",
       "    .dataframe thead th {\n",
       "        text-align: right;\n",
       "    }\n",
       "</style>\n",
       "<table border=\"1\" class=\"dataframe\">\n",
       "  <thead>\n",
       "    <tr style=\"text-align: right;\">\n",
       "      <th></th>\n",
       "      <th>No. of cars</th>\n",
       "      <th>Type</th>\n",
       "      <th>Min.Price</th>\n",
       "      <th>Price</th>\n",
       "      <th>Max.Price</th>\n",
       "      <th>Range.Price</th>\n",
       "      <th>RoughRange</th>\n",
       "      <th>gpm100</th>\n",
       "      <th>MPG.city</th>\n",
       "      <th>MPG.highway</th>\n",
       "    </tr>\n",
       "  </thead>\n",
       "  <tbody>\n",
       "    <tr>\n",
       "      <th>30</th>\n",
       "      <td>36</td>\n",
       "      <td>Van</td>\n",
       "      <td>14.5</td>\n",
       "      <td>19.9</td>\n",
       "      <td>25.3</td>\n",
       "      <td>10.8</td>\n",
       "      <td>10.82</td>\n",
       "      <td>5.7</td>\n",
       "      <td>15.0</td>\n",
       "      <td>20</td>\n",
       "    </tr>\n",
       "    <tr>\n",
       "      <th>39</th>\n",
       "      <td>70</td>\n",
       "      <td>Van</td>\n",
       "      <td>19.5</td>\n",
       "      <td>19.5</td>\n",
       "      <td>19.5</td>\n",
       "      <td>0.0</td>\n",
       "      <td>0.00</td>\n",
       "      <td>4.9</td>\n",
       "      <td>18.0</td>\n",
       "      <td>23</td>\n",
       "    </tr>\n",
       "    <tr>\n",
       "      <th>20</th>\n",
       "      <td>26</td>\n",
       "      <td>Van</td>\n",
       "      <td>13.6</td>\n",
       "      <td>19.0</td>\n",
       "      <td>24.4</td>\n",
       "      <td>10.8</td>\n",
       "      <td>10.77</td>\n",
       "      <td>5.3</td>\n",
       "      <td>17.0</td>\n",
       "      <td>21</td>\n",
       "    </tr>\n",
       "    <tr>\n",
       "      <th>10</th>\n",
       "      <td>16</td>\n",
       "      <td>Van</td>\n",
       "      <td>14.7</td>\n",
       "      <td>16.3</td>\n",
       "      <td>18.0</td>\n",
       "      <td>3.3</td>\n",
       "      <td>3.31</td>\n",
       "      <td>4.9</td>\n",
       "      <td>18.0</td>\n",
       "      <td>23</td>\n",
       "    </tr>\n",
       "    <tr>\n",
       "      <th>11</th>\n",
       "      <td>17</td>\n",
       "      <td>Van</td>\n",
       "      <td>14.7</td>\n",
       "      <td>16.6</td>\n",
       "      <td>18.6</td>\n",
       "      <td>3.9</td>\n",
       "      <td>3.90</td>\n",
       "      <td>5.7</td>\n",
       "      <td>15.0</td>\n",
       "      <td>20</td>\n",
       "    </tr>\n",
       "  </tbody>\n",
       "</table>\n",
       "</div>"
      ],
      "text/plain": [
       "    No. of cars Type  Min.Price  Price  Max.Price  Range.Price  RoughRange  \\\n",
       "30           36  Van       14.5   19.9       25.3         10.8       10.82   \n",
       "39           70  Van       19.5   19.5       19.5          0.0        0.00   \n",
       "20           26  Van       13.6   19.0       24.4         10.8       10.77   \n",
       "10           16  Van       14.7   16.3       18.0          3.3        3.31   \n",
       "11           17  Van       14.7   16.6       18.6          3.9        3.90   \n",
       "\n",
       "    gpm100  MPG.city  MPG.highway  \n",
       "30     5.7      15.0           20  \n",
       "39     4.9      18.0           23  \n",
       "20     5.3      17.0           21  \n",
       "10     4.9      18.0           23  \n",
       "11     5.7      15.0           20  "
      ]
     },
     "execution_count": 17,
     "metadata": {},
     "output_type": "execute_result"
    }
   ],
   "source": [
    "file.sort_values('Type', ascending=False).head()"
   ]
  },
  {
   "cell_type": "code",
   "execution_count": 18,
   "metadata": {},
   "outputs": [
    {
     "data": {
      "text/html": [
       "<div>\n",
       "<style scoped>\n",
       "    .dataframe tbody tr th:only-of-type {\n",
       "        vertical-align: middle;\n",
       "    }\n",
       "\n",
       "    .dataframe tbody tr th {\n",
       "        vertical-align: top;\n",
       "    }\n",
       "\n",
       "    .dataframe thead th {\n",
       "        text-align: right;\n",
       "    }\n",
       "</style>\n",
       "<table border=\"1\" class=\"dataframe\">\n",
       "  <thead>\n",
       "    <tr style=\"text-align: right;\">\n",
       "      <th></th>\n",
       "      <th>No. of cars</th>\n",
       "      <th>Type</th>\n",
       "      <th>Min.Price</th>\n",
       "      <th>Price</th>\n",
       "      <th>Max.Price</th>\n",
       "      <th>Range.Price</th>\n",
       "      <th>RoughRange</th>\n",
       "      <th>gpm100</th>\n",
       "      <th>MPG.city</th>\n",
       "      <th>MPG.highway</th>\n",
       "    </tr>\n",
       "  </thead>\n",
       "  <tbody>\n",
       "    <tr>\n",
       "      <th>47</th>\n",
       "      <td>79</td>\n",
       "      <td>Small</td>\n",
       "      <td>9.2</td>\n",
       "      <td>11.1</td>\n",
       "      <td>12.9</td>\n",
       "      <td>3.7</td>\n",
       "      <td>3.70</td>\n",
       "      <td>3.0</td>\n",
       "      <td>28.0</td>\n",
       "      <td>38</td>\n",
       "    </tr>\n",
       "    <tr>\n",
       "      <th>46</th>\n",
       "      <td>77</td>\n",
       "      <td>Large</td>\n",
       "      <td>19.4</td>\n",
       "      <td>24.4</td>\n",
       "      <td>29.4</td>\n",
       "      <td>10.0</td>\n",
       "      <td>10.00</td>\n",
       "      <td>4.2</td>\n",
       "      <td>19.0</td>\n",
       "      <td>28</td>\n",
       "    </tr>\n",
       "    <tr>\n",
       "      <th>45</th>\n",
       "      <td>76</td>\n",
       "      <td>Midsize</td>\n",
       "      <td>15.4</td>\n",
       "      <td>18.5</td>\n",
       "      <td>21.6</td>\n",
       "      <td>6.2</td>\n",
       "      <td>6.19</td>\n",
       "      <td>4.3</td>\n",
       "      <td>19.0</td>\n",
       "      <td>27</td>\n",
       "    </tr>\n",
       "    <tr>\n",
       "      <th>44</th>\n",
       "      <td>75</td>\n",
       "      <td>Sporty</td>\n",
       "      <td>14.0</td>\n",
       "      <td>17.7</td>\n",
       "      <td>21.4</td>\n",
       "      <td>7.4</td>\n",
       "      <td>7.40</td>\n",
       "      <td>4.2</td>\n",
       "      <td>19.0</td>\n",
       "      <td>28</td>\n",
       "    </tr>\n",
       "    <tr>\n",
       "      <th>43</th>\n",
       "      <td>74</td>\n",
       "      <td>Compact</td>\n",
       "      <td>9.4</td>\n",
       "      <td>11.1</td>\n",
       "      <td>12.8</td>\n",
       "      <td>3.4</td>\n",
       "      <td>3.39</td>\n",
       "      <td>3.7</td>\n",
       "      <td>23.0</td>\n",
       "      <td>31</td>\n",
       "    </tr>\n",
       "  </tbody>\n",
       "</table>\n",
       "</div>"
      ],
      "text/plain": [
       "    No. of cars     Type  Min.Price  Price  Max.Price  Range.Price  \\\n",
       "47           79    Small        9.2   11.1       12.9          3.7   \n",
       "46           77    Large       19.4   24.4       29.4         10.0   \n",
       "45           76  Midsize       15.4   18.5       21.6          6.2   \n",
       "44           75   Sporty       14.0   17.7       21.4          7.4   \n",
       "43           74  Compact        9.4   11.1       12.8          3.4   \n",
       "\n",
       "    RoughRange  gpm100  MPG.city  MPG.highway  \n",
       "47        3.70     3.0      28.0           38  \n",
       "46       10.00     4.2      19.0           28  \n",
       "45        6.19     4.3      19.0           27  \n",
       "44        7.40     4.2      19.0           28  \n",
       "43        3.39     3.7      23.0           31  "
      ]
     },
     "execution_count": 18,
     "metadata": {},
     "output_type": "execute_result"
    }
   ],
   "source": [
    "file.sort_index(ascending=False).head()"
   ]
  },
  {
   "cell_type": "code",
   "execution_count": 19,
   "metadata": {},
   "outputs": [
    {
     "data": {
      "text/plain": [
       "450.0"
      ]
     },
     "execution_count": 19,
     "metadata": {},
     "output_type": "execute_result"
    }
   ],
   "source": [
    "price=[100, 20.3, 450, 120.6]\n",
    "p=pd.Series(price)\n",
    "\n",
    "p[2]    "
   ]
  },
  {
   "cell_type": "code",
   "execution_count": 20,
   "metadata": {},
   "outputs": [
    {
     "data": {
      "text/plain": [
       "1     20.3\n",
       "3    120.6\n",
       "dtype: float64"
      ]
     },
     "execution_count": 20,
     "metadata": {},
     "output_type": "execute_result"
    }
   ],
   "source": [
    "p[[1,3]] "
   ]
  },
  {
   "cell_type": "code",
   "execution_count": 21,
   "metadata": {},
   "outputs": [
    {
     "data": {
      "text/plain": [
       "1     20.3\n",
       "2    450.0\n",
       "dtype: float64"
      ]
     },
     "execution_count": 21,
     "metadata": {},
     "output_type": "execute_result"
    }
   ],
   "source": [
    "p[1:3]  "
   ]
  },
  {
   "cell_type": "code",
   "execution_count": 22,
   "metadata": {},
   "outputs": [
    {
     "data": {
      "text/plain": [
       "2    450.0\n",
       "3    120.6\n",
       "dtype: float64"
      ]
     },
     "execution_count": 22,
     "metadata": {},
     "output_type": "execute_result"
    }
   ],
   "source": [
    "p[-2:]"
   ]
  },
  {
   "cell_type": "code",
   "execution_count": 23,
   "metadata": {},
   "outputs": [
    {
     "data": {
      "text/plain": [
       "450.0"
      ]
     },
     "execution_count": 23,
     "metadata": {},
     "output_type": "execute_result"
    }
   ],
   "source": [
    "p.get(2) "
   ]
  },
  {
   "cell_type": "code",
   "execution_count": 24,
   "metadata": {},
   "outputs": [
    {
     "data": {
      "text/plain": [
       "No. of cars    48\n",
       "Type           48\n",
       "Min.Price      48\n",
       "Price          48\n",
       "Max.Price      48\n",
       "Range.Price    48\n",
       "RoughRange     48\n",
       "gpm100         48\n",
       "MPG.city       47\n",
       "MPG.highway    48\n",
       "dtype: int64"
      ]
     },
     "execution_count": 24,
     "metadata": {},
     "output_type": "execute_result"
    }
   ],
   "source": [
    "file.count() "
   ]
  },
  {
   "cell_type": "code",
   "execution_count": 25,
   "metadata": {},
   "outputs": [
    {
     "data": {
      "text/plain": [
       "48"
      ]
     },
     "execution_count": 25,
     "metadata": {},
     "output_type": "execute_result"
    }
   ],
   "source": [
    "len(file) "
   ]
  },
  {
   "cell_type": "code",
   "execution_count": 26,
   "metadata": {},
   "outputs": [
    {
     "data": {
      "text/plain": [
       "No. of cars      79\n",
       "Type            Van\n",
       "Min.Price      37.5\n",
       "Price          40.1\n",
       "Max.Price      42.7\n",
       "Range.Price    14.6\n",
       "RoughRange     14.6\n",
       "gpm100          5.7\n",
       "MPG.city         31\n",
       "MPG.highway      41\n",
       "dtype: object"
      ]
     },
     "execution_count": 26,
     "metadata": {},
     "output_type": "execute_result"
    }
   ],
   "source": [
    "file.max() "
   ]
  },
  {
   "cell_type": "code",
   "execution_count": 27,
   "metadata": {},
   "outputs": [
    {
     "name": "stdout",
     "output_type": "stream",
     "text": [
      "<class 'pandas.core.frame.DataFrame'>\n",
      "RangeIndex: 48 entries, 0 to 47\n",
      "Data columns (total 10 columns):\n",
      "No. of cars    48 non-null int64\n",
      "Type           48 non-null object\n",
      "Min.Price      48 non-null float64\n",
      "Price          48 non-null float64\n",
      "Max.Price      48 non-null float64\n",
      "Range.Price    48 non-null float64\n",
      "RoughRange     48 non-null float64\n",
      "gpm100         48 non-null float64\n",
      "MPG.city       47 non-null float64\n",
      "MPG.highway    48 non-null int64\n",
      "dtypes: float64(7), int64(2), object(1)\n",
      "memory usage: 3.8+ KB\n"
     ]
    }
   ],
   "source": [
    "file.info() "
   ]
  },
  {
   "cell_type": "code",
   "execution_count": 28,
   "metadata": {},
   "outputs": [
    {
     "data": {
      "text/html": [
       "<div>\n",
       "<style scoped>\n",
       "    .dataframe tbody tr th:only-of-type {\n",
       "        vertical-align: middle;\n",
       "    }\n",
       "\n",
       "    .dataframe tbody tr th {\n",
       "        vertical-align: top;\n",
       "    }\n",
       "\n",
       "    .dataframe thead th {\n",
       "        text-align: right;\n",
       "    }\n",
       "</style>\n",
       "<table border=\"1\" class=\"dataframe\">\n",
       "  <thead>\n",
       "    <tr style=\"text-align: right;\">\n",
       "      <th></th>\n",
       "      <th>No. of cars</th>\n",
       "      <th>Type</th>\n",
       "      <th>Min.Price</th>\n",
       "      <th>Price</th>\n",
       "      <th>Max.Price</th>\n",
       "      <th>Range.Price</th>\n",
       "      <th>RoughRange</th>\n",
       "      <th>gpm100</th>\n",
       "      <th>MPG.city</th>\n",
       "      <th>MPG.highway</th>\n",
       "    </tr>\n",
       "  </thead>\n",
       "  <tbody>\n",
       "    <tr>\n",
       "      <th>0</th>\n",
       "      <td>6</td>\n",
       "      <td>Midsize</td>\n",
       "      <td>14.2</td>\n",
       "      <td>15.7</td>\n",
       "      <td>17.3</td>\n",
       "      <td>3.1</td>\n",
       "      <td>3.09</td>\n",
       "      <td>3.8</td>\n",
       "      <td>22.0</td>\n",
       "      <td>31</td>\n",
       "    </tr>\n",
       "    <tr>\n",
       "      <th>1</th>\n",
       "      <td>7</td>\n",
       "      <td>Large</td>\n",
       "      <td>19.9</td>\n",
       "      <td>20.8</td>\n",
       "      <td>21.7</td>\n",
       "      <td>1.8</td>\n",
       "      <td>1.79</td>\n",
       "      <td>4.2</td>\n",
       "      <td>19.0</td>\n",
       "      <td>28</td>\n",
       "    </tr>\n",
       "    <tr>\n",
       "      <th>2</th>\n",
       "      <td>8</td>\n",
       "      <td>Large</td>\n",
       "      <td>22.6</td>\n",
       "      <td>23.7</td>\n",
       "      <td>24.9</td>\n",
       "      <td>2.3</td>\n",
       "      <td>2.31</td>\n",
       "      <td>4.9</td>\n",
       "      <td>NaN</td>\n",
       "      <td>25</td>\n",
       "    </tr>\n",
       "    <tr>\n",
       "      <th>3</th>\n",
       "      <td>9</td>\n",
       "      <td>Midsize</td>\n",
       "      <td>26.3</td>\n",
       "      <td>26.3</td>\n",
       "      <td>26.3</td>\n",
       "      <td>0.0</td>\n",
       "      <td>-0.01</td>\n",
       "      <td>4.3</td>\n",
       "      <td>19.0</td>\n",
       "      <td>27</td>\n",
       "    </tr>\n",
       "    <tr>\n",
       "      <th>4</th>\n",
       "      <td>10</td>\n",
       "      <td>Large</td>\n",
       "      <td>33.0</td>\n",
       "      <td>34.7</td>\n",
       "      <td>36.3</td>\n",
       "      <td>3.3</td>\n",
       "      <td>3.30</td>\n",
       "      <td>4.9</td>\n",
       "      <td>16.0</td>\n",
       "      <td>25</td>\n",
       "    </tr>\n",
       "  </tbody>\n",
       "</table>\n",
       "</div>"
      ],
      "text/plain": [
       "   No. of cars     Type  Min.Price  Price  Max.Price  Range.Price  RoughRange  \\\n",
       "0            6  Midsize       14.2   15.7       17.3          3.1        3.09   \n",
       "1            7    Large       19.9   20.8       21.7          1.8        1.79   \n",
       "2            8    Large       22.6   23.7       24.9          2.3        2.31   \n",
       "3            9  Midsize       26.3   26.3       26.3          0.0       -0.01   \n",
       "4           10    Large       33.0   34.7       36.3          3.3        3.30   \n",
       "\n",
       "   gpm100  MPG.city  MPG.highway  \n",
       "0     3.8      22.0           31  \n",
       "1     4.2      19.0           28  \n",
       "2     4.9       NaN           25  \n",
       "3     4.3      19.0           27  \n",
       "4     4.9      16.0           25  "
      ]
     },
     "execution_count": 28,
     "metadata": {},
     "output_type": "execute_result"
    }
   ],
   "source": [
    "file.head()"
   ]
  },
  {
   "cell_type": "code",
   "execution_count": 29,
   "metadata": {},
   "outputs": [
    {
     "data": {
      "text/html": [
       "<div>\n",
       "<style scoped>\n",
       "    .dataframe tbody tr th:only-of-type {\n",
       "        vertical-align: middle;\n",
       "    }\n",
       "\n",
       "    .dataframe tbody tr th {\n",
       "        vertical-align: top;\n",
       "    }\n",
       "\n",
       "    .dataframe thead th {\n",
       "        text-align: right;\n",
       "    }\n",
       "</style>\n",
       "<table border=\"1\" class=\"dataframe\">\n",
       "  <thead>\n",
       "    <tr style=\"text-align: right;\">\n",
       "      <th></th>\n",
       "      <th>No. of cars</th>\n",
       "      <th>Type</th>\n",
       "      <th>Min.Price</th>\n",
       "      <th>Price</th>\n",
       "      <th>Max.Price</th>\n",
       "      <th>Range.Price</th>\n",
       "      <th>RoughRange</th>\n",
       "      <th>gpm100</th>\n",
       "      <th>MPG.city</th>\n",
       "      <th>MPG.highway</th>\n",
       "    </tr>\n",
       "  </thead>\n",
       "  <tbody>\n",
       "    <tr>\n",
       "      <th>0</th>\n",
       "      <td>6</td>\n",
       "      <td>Midsize</td>\n",
       "      <td>14.2</td>\n",
       "      <td>15.7</td>\n",
       "      <td>17.3</td>\n",
       "      <td>3.1</td>\n",
       "      <td>3.09</td>\n",
       "      <td>3.8</td>\n",
       "      <td>22.0</td>\n",
       "      <td>31</td>\n",
       "    </tr>\n",
       "    <tr>\n",
       "      <th>1</th>\n",
       "      <td>7</td>\n",
       "      <td>Large</td>\n",
       "      <td>19.9</td>\n",
       "      <td>20.8</td>\n",
       "      <td>21.7</td>\n",
       "      <td>1.8</td>\n",
       "      <td>1.79</td>\n",
       "      <td>4.2</td>\n",
       "      <td>19.0</td>\n",
       "      <td>28</td>\n",
       "    </tr>\n",
       "    <tr>\n",
       "      <th>2</th>\n",
       "      <td>8</td>\n",
       "      <td>Large</td>\n",
       "      <td>22.6</td>\n",
       "      <td>23.7</td>\n",
       "      <td>24.9</td>\n",
       "      <td>2.3</td>\n",
       "      <td>2.31</td>\n",
       "      <td>4.9</td>\n",
       "      <td>0.0</td>\n",
       "      <td>25</td>\n",
       "    </tr>\n",
       "    <tr>\n",
       "      <th>3</th>\n",
       "      <td>9</td>\n",
       "      <td>Midsize</td>\n",
       "      <td>26.3</td>\n",
       "      <td>26.3</td>\n",
       "      <td>26.3</td>\n",
       "      <td>0.0</td>\n",
       "      <td>-0.01</td>\n",
       "      <td>4.3</td>\n",
       "      <td>19.0</td>\n",
       "      <td>27</td>\n",
       "    </tr>\n",
       "    <tr>\n",
       "      <th>4</th>\n",
       "      <td>10</td>\n",
       "      <td>Large</td>\n",
       "      <td>33.0</td>\n",
       "      <td>34.7</td>\n",
       "      <td>36.3</td>\n",
       "      <td>3.3</td>\n",
       "      <td>3.30</td>\n",
       "      <td>4.9</td>\n",
       "      <td>16.0</td>\n",
       "      <td>25</td>\n",
       "    </tr>\n",
       "  </tbody>\n",
       "</table>\n",
       "</div>"
      ],
      "text/plain": [
       "   No. of cars     Type  Min.Price  Price  Max.Price  Range.Price  RoughRange  \\\n",
       "0            6  Midsize       14.2   15.7       17.3          3.1        3.09   \n",
       "1            7    Large       19.9   20.8       21.7          1.8        1.79   \n",
       "2            8    Large       22.6   23.7       24.9          2.3        2.31   \n",
       "3            9  Midsize       26.3   26.3       26.3          0.0       -0.01   \n",
       "4           10    Large       33.0   34.7       36.3          3.3        3.30   \n",
       "\n",
       "   gpm100  MPG.city  MPG.highway  \n",
       "0     3.8      22.0           31  \n",
       "1     4.2      19.0           28  \n",
       "2     4.9       0.0           25  \n",
       "3     4.3      19.0           27  \n",
       "4     4.9      16.0           25  "
      ]
     },
     "execution_count": 29,
     "metadata": {},
     "output_type": "execute_result"
    }
   ],
   "source": [
    "file.fillna(0).head() "
   ]
  },
  {
   "cell_type": "code",
   "execution_count": 30,
   "metadata": {},
   "outputs": [
    {
     "data": {
      "text/html": [
       "<div>\n",
       "<style scoped>\n",
       "    .dataframe tbody tr th:only-of-type {\n",
       "        vertical-align: middle;\n",
       "    }\n",
       "\n",
       "    .dataframe tbody tr th {\n",
       "        vertical-align: top;\n",
       "    }\n",
       "\n",
       "    .dataframe thead th {\n",
       "        text-align: right;\n",
       "    }\n",
       "</style>\n",
       "<table border=\"1\" class=\"dataframe\">\n",
       "  <thead>\n",
       "    <tr style=\"text-align: right;\">\n",
       "      <th></th>\n",
       "      <th>No. of cars</th>\n",
       "      <th>Type</th>\n",
       "      <th>Min.Price</th>\n",
       "      <th>Price</th>\n",
       "      <th>Max.Price</th>\n",
       "      <th>Range.Price</th>\n",
       "      <th>RoughRange</th>\n",
       "      <th>gpm100</th>\n",
       "      <th>MPG.city</th>\n",
       "      <th>MPG.highway</th>\n",
       "    </tr>\n",
       "  </thead>\n",
       "  <tbody>\n",
       "    <tr>\n",
       "      <th>0</th>\n",
       "      <td>6</td>\n",
       "      <td>Midsize</td>\n",
       "      <td>14.2</td>\n",
       "      <td>15.7</td>\n",
       "      <td>17.3</td>\n",
       "      <td>3.1</td>\n",
       "      <td>3.09</td>\n",
       "      <td>3.8</td>\n",
       "      <td>22</td>\n",
       "      <td>31</td>\n",
       "    </tr>\n",
       "    <tr>\n",
       "      <th>1</th>\n",
       "      <td>7</td>\n",
       "      <td>Large</td>\n",
       "      <td>19.9</td>\n",
       "      <td>20.8</td>\n",
       "      <td>21.7</td>\n",
       "      <td>1.8</td>\n",
       "      <td>1.79</td>\n",
       "      <td>4.2</td>\n",
       "      <td>19</td>\n",
       "      <td>28</td>\n",
       "    </tr>\n",
       "    <tr>\n",
       "      <th>2</th>\n",
       "      <td>8</td>\n",
       "      <td>Large</td>\n",
       "      <td>22.6</td>\n",
       "      <td>23.7</td>\n",
       "      <td>24.9</td>\n",
       "      <td>2.3</td>\n",
       "      <td>2.31</td>\n",
       "      <td>4.9</td>\n",
       "      <td>Hello</td>\n",
       "      <td>25</td>\n",
       "    </tr>\n",
       "    <tr>\n",
       "      <th>3</th>\n",
       "      <td>9</td>\n",
       "      <td>Midsize</td>\n",
       "      <td>26.3</td>\n",
       "      <td>26.3</td>\n",
       "      <td>26.3</td>\n",
       "      <td>0.0</td>\n",
       "      <td>-0.01</td>\n",
       "      <td>4.3</td>\n",
       "      <td>19</td>\n",
       "      <td>27</td>\n",
       "    </tr>\n",
       "    <tr>\n",
       "      <th>4</th>\n",
       "      <td>10</td>\n",
       "      <td>Large</td>\n",
       "      <td>33.0</td>\n",
       "      <td>34.7</td>\n",
       "      <td>36.3</td>\n",
       "      <td>3.3</td>\n",
       "      <td>3.30</td>\n",
       "      <td>4.9</td>\n",
       "      <td>16</td>\n",
       "      <td>25</td>\n",
       "    </tr>\n",
       "  </tbody>\n",
       "</table>\n",
       "</div>"
      ],
      "text/plain": [
       "   No. of cars     Type  Min.Price  Price  Max.Price  Range.Price  RoughRange  \\\n",
       "0            6  Midsize       14.2   15.7       17.3          3.1        3.09   \n",
       "1            7    Large       19.9   20.8       21.7          1.8        1.79   \n",
       "2            8    Large       22.6   23.7       24.9          2.3        2.31   \n",
       "3            9  Midsize       26.3   26.3       26.3          0.0       -0.01   \n",
       "4           10    Large       33.0   34.7       36.3          3.3        3.30   \n",
       "\n",
       "   gpm100 MPG.city  MPG.highway  \n",
       "0     3.8       22           31  \n",
       "1     4.2       19           28  \n",
       "2     4.9    Hello           25  \n",
       "3     4.3       19           27  \n",
       "4     4.9       16           25  "
      ]
     },
     "execution_count": 30,
     "metadata": {},
     "output_type": "execute_result"
    }
   ],
   "source": [
    "file.fillna('Hello').head()"
   ]
  },
  {
   "cell_type": "code",
   "execution_count": 31,
   "metadata": {},
   "outputs": [],
   "source": [
    "file.insert(2,column=\"Type1\",value=\"Big\")"
   ]
  },
  {
   "cell_type": "code",
   "execution_count": 32,
   "metadata": {},
   "outputs": [
    {
     "data": {
      "text/html": [
       "<div>\n",
       "<style scoped>\n",
       "    .dataframe tbody tr th:only-of-type {\n",
       "        vertical-align: middle;\n",
       "    }\n",
       "\n",
       "    .dataframe tbody tr th {\n",
       "        vertical-align: top;\n",
       "    }\n",
       "\n",
       "    .dataframe thead th {\n",
       "        text-align: right;\n",
       "    }\n",
       "</style>\n",
       "<table border=\"1\" class=\"dataframe\">\n",
       "  <thead>\n",
       "    <tr style=\"text-align: right;\">\n",
       "      <th></th>\n",
       "      <th>No. of cars</th>\n",
       "      <th>Type</th>\n",
       "      <th>Type1</th>\n",
       "      <th>Min.Price</th>\n",
       "      <th>Price</th>\n",
       "      <th>Max.Price</th>\n",
       "      <th>Range.Price</th>\n",
       "      <th>RoughRange</th>\n",
       "      <th>gpm100</th>\n",
       "      <th>MPG.city</th>\n",
       "      <th>MPG.highway</th>\n",
       "    </tr>\n",
       "  </thead>\n",
       "  <tbody>\n",
       "    <tr>\n",
       "      <th>0</th>\n",
       "      <td>6</td>\n",
       "      <td>Midsize</td>\n",
       "      <td>Big</td>\n",
       "      <td>14.2</td>\n",
       "      <td>15.7</td>\n",
       "      <td>17.3</td>\n",
       "      <td>3.1</td>\n",
       "      <td>3.09</td>\n",
       "      <td>3.8</td>\n",
       "      <td>22.0</td>\n",
       "      <td>31</td>\n",
       "    </tr>\n",
       "    <tr>\n",
       "      <th>1</th>\n",
       "      <td>7</td>\n",
       "      <td>Large</td>\n",
       "      <td>Big</td>\n",
       "      <td>19.9</td>\n",
       "      <td>20.8</td>\n",
       "      <td>21.7</td>\n",
       "      <td>1.8</td>\n",
       "      <td>1.79</td>\n",
       "      <td>4.2</td>\n",
       "      <td>19.0</td>\n",
       "      <td>28</td>\n",
       "    </tr>\n",
       "    <tr>\n",
       "      <th>2</th>\n",
       "      <td>8</td>\n",
       "      <td>Large</td>\n",
       "      <td>Big</td>\n",
       "      <td>22.6</td>\n",
       "      <td>23.7</td>\n",
       "      <td>24.9</td>\n",
       "      <td>2.3</td>\n",
       "      <td>2.31</td>\n",
       "      <td>4.9</td>\n",
       "      <td>NaN</td>\n",
       "      <td>25</td>\n",
       "    </tr>\n",
       "    <tr>\n",
       "      <th>3</th>\n",
       "      <td>9</td>\n",
       "      <td>Midsize</td>\n",
       "      <td>Big</td>\n",
       "      <td>26.3</td>\n",
       "      <td>26.3</td>\n",
       "      <td>26.3</td>\n",
       "      <td>0.0</td>\n",
       "      <td>-0.01</td>\n",
       "      <td>4.3</td>\n",
       "      <td>19.0</td>\n",
       "      <td>27</td>\n",
       "    </tr>\n",
       "    <tr>\n",
       "      <th>4</th>\n",
       "      <td>10</td>\n",
       "      <td>Large</td>\n",
       "      <td>Big</td>\n",
       "      <td>33.0</td>\n",
       "      <td>34.7</td>\n",
       "      <td>36.3</td>\n",
       "      <td>3.3</td>\n",
       "      <td>3.30</td>\n",
       "      <td>4.9</td>\n",
       "      <td>16.0</td>\n",
       "      <td>25</td>\n",
       "    </tr>\n",
       "  </tbody>\n",
       "</table>\n",
       "</div>"
      ],
      "text/plain": [
       "   No. of cars     Type Type1  Min.Price  Price  Max.Price  Range.Price  \\\n",
       "0            6  Midsize   Big       14.2   15.7       17.3          3.1   \n",
       "1            7    Large   Big       19.9   20.8       21.7          1.8   \n",
       "2            8    Large   Big       22.6   23.7       24.9          2.3   \n",
       "3            9  Midsize   Big       26.3   26.3       26.3          0.0   \n",
       "4           10    Large   Big       33.0   34.7       36.3          3.3   \n",
       "\n",
       "   RoughRange  gpm100  MPG.city  MPG.highway  \n",
       "0        3.09     3.8      22.0           31  \n",
       "1        1.79     4.2      19.0           28  \n",
       "2        2.31     4.9       NaN           25  \n",
       "3       -0.01     4.3      19.0           27  \n",
       "4        3.30     4.9      16.0           25  "
      ]
     },
     "execution_count": 32,
     "metadata": {},
     "output_type": "execute_result"
    }
   ],
   "source": [
    "file.head() "
   ]
  },
  {
   "cell_type": "code",
   "execution_count": 33,
   "metadata": {},
   "outputs": [
    {
     "data": {
      "text/html": [
       "<div>\n",
       "<style scoped>\n",
       "    .dataframe tbody tr th:only-of-type {\n",
       "        vertical-align: middle;\n",
       "    }\n",
       "\n",
       "    .dataframe tbody tr th {\n",
       "        vertical-align: top;\n",
       "    }\n",
       "\n",
       "    .dataframe thead th {\n",
       "        text-align: right;\n",
       "    }\n",
       "</style>\n",
       "<table border=\"1\" class=\"dataframe\">\n",
       "  <thead>\n",
       "    <tr style=\"text-align: right;\">\n",
       "      <th></th>\n",
       "      <th>No. of cars</th>\n",
       "      <th>Type</th>\n",
       "      <th>Type1</th>\n",
       "      <th>Min.Price</th>\n",
       "      <th>Price</th>\n",
       "      <th>Max.Price</th>\n",
       "      <th>Range.Price</th>\n",
       "      <th>RoughRange</th>\n",
       "      <th>gpm100</th>\n",
       "      <th>MPG.city</th>\n",
       "      <th>MPG.highway</th>\n",
       "    </tr>\n",
       "  </thead>\n",
       "  <tbody>\n",
       "    <tr>\n",
       "      <th>0</th>\n",
       "      <td>6</td>\n",
       "      <td>Midsize</td>\n",
       "      <td>Big</td>\n",
       "      <td>14.2</td>\n",
       "      <td>15.7</td>\n",
       "      <td>17.3</td>\n",
       "      <td>3.1</td>\n",
       "      <td>3.09</td>\n",
       "      <td>3.8</td>\n",
       "      <td>22.0</td>\n",
       "      <td>31</td>\n",
       "    </tr>\n",
       "    <tr>\n",
       "      <th>3</th>\n",
       "      <td>9</td>\n",
       "      <td>Midsize</td>\n",
       "      <td>Big</td>\n",
       "      <td>26.3</td>\n",
       "      <td>26.3</td>\n",
       "      <td>26.3</td>\n",
       "      <td>0.0</td>\n",
       "      <td>-0.01</td>\n",
       "      <td>4.3</td>\n",
       "      <td>19.0</td>\n",
       "      <td>27</td>\n",
       "    </tr>\n",
       "    <tr>\n",
       "      <th>5</th>\n",
       "      <td>11</td>\n",
       "      <td>Midsize</td>\n",
       "      <td>Big</td>\n",
       "      <td>37.5</td>\n",
       "      <td>40.1</td>\n",
       "      <td>42.7</td>\n",
       "      <td>5.2</td>\n",
       "      <td>5.18</td>\n",
       "      <td>4.9</td>\n",
       "      <td>16.0</td>\n",
       "      <td>25</td>\n",
       "    </tr>\n",
       "    <tr>\n",
       "      <th>9</th>\n",
       "      <td>15</td>\n",
       "      <td>Midsize</td>\n",
       "      <td>Big</td>\n",
       "      <td>13.4</td>\n",
       "      <td>15.9</td>\n",
       "      <td>18.4</td>\n",
       "      <td>5.0</td>\n",
       "      <td>5.01</td>\n",
       "      <td>4.0</td>\n",
       "      <td>21.0</td>\n",
       "      <td>29</td>\n",
       "    </tr>\n",
       "    <tr>\n",
       "      <th>21</th>\n",
       "      <td>27</td>\n",
       "      <td>Midsize</td>\n",
       "      <td>Big</td>\n",
       "      <td>14.8</td>\n",
       "      <td>15.6</td>\n",
       "      <td>16.4</td>\n",
       "      <td>1.6</td>\n",
       "      <td>1.60</td>\n",
       "      <td>4.2</td>\n",
       "      <td>21.0</td>\n",
       "      <td>27</td>\n",
       "    </tr>\n",
       "    <tr>\n",
       "      <th>31</th>\n",
       "      <td>37</td>\n",
       "      <td>Midsize</td>\n",
       "      <td>Big</td>\n",
       "      <td>15.6</td>\n",
       "      <td>20.2</td>\n",
       "      <td>24.8</td>\n",
       "      <td>9.2</td>\n",
       "      <td>9.21</td>\n",
       "      <td>3.9</td>\n",
       "      <td>21.0</td>\n",
       "      <td>30</td>\n",
       "    </tr>\n",
       "    <tr>\n",
       "      <th>33</th>\n",
       "      <td>51</td>\n",
       "      <td>Midsize</td>\n",
       "      <td>Big</td>\n",
       "      <td>33.3</td>\n",
       "      <td>34.3</td>\n",
       "      <td>35.3</td>\n",
       "      <td>2.0</td>\n",
       "      <td>1.99</td>\n",
       "      <td>4.7</td>\n",
       "      <td>17.0</td>\n",
       "      <td>26</td>\n",
       "    </tr>\n",
       "    <tr>\n",
       "      <th>36</th>\n",
       "      <td>61</td>\n",
       "      <td>Midsize</td>\n",
       "      <td>Big</td>\n",
       "      <td>14.9</td>\n",
       "      <td>14.9</td>\n",
       "      <td>14.9</td>\n",
       "      <td>0.0</td>\n",
       "      <td>-0.02</td>\n",
       "      <td>4.4</td>\n",
       "      <td>19.0</td>\n",
       "      <td>26</td>\n",
       "    </tr>\n",
       "    <tr>\n",
       "      <th>38</th>\n",
       "      <td>69</td>\n",
       "      <td>Midsize</td>\n",
       "      <td>Big</td>\n",
       "      <td>14.2</td>\n",
       "      <td>16.3</td>\n",
       "      <td>18.4</td>\n",
       "      <td>4.2</td>\n",
       "      <td>4.19</td>\n",
       "      <td>3.7</td>\n",
       "      <td>23.0</td>\n",
       "      <td>31</td>\n",
       "    </tr>\n",
       "    <tr>\n",
       "      <th>45</th>\n",
       "      <td>76</td>\n",
       "      <td>Midsize</td>\n",
       "      <td>Big</td>\n",
       "      <td>15.4</td>\n",
       "      <td>18.5</td>\n",
       "      <td>21.6</td>\n",
       "      <td>6.2</td>\n",
       "      <td>6.19</td>\n",
       "      <td>4.3</td>\n",
       "      <td>19.0</td>\n",
       "      <td>27</td>\n",
       "    </tr>\n",
       "  </tbody>\n",
       "</table>\n",
       "</div>"
      ],
      "text/plain": [
       "    No. of cars     Type Type1  Min.Price  Price  Max.Price  Range.Price  \\\n",
       "0             6  Midsize   Big       14.2   15.7       17.3          3.1   \n",
       "3             9  Midsize   Big       26.3   26.3       26.3          0.0   \n",
       "5            11  Midsize   Big       37.5   40.1       42.7          5.2   \n",
       "9            15  Midsize   Big       13.4   15.9       18.4          5.0   \n",
       "21           27  Midsize   Big       14.8   15.6       16.4          1.6   \n",
       "31           37  Midsize   Big       15.6   20.2       24.8          9.2   \n",
       "33           51  Midsize   Big       33.3   34.3       35.3          2.0   \n",
       "36           61  Midsize   Big       14.9   14.9       14.9          0.0   \n",
       "38           69  Midsize   Big       14.2   16.3       18.4          4.2   \n",
       "45           76  Midsize   Big       15.4   18.5       21.6          6.2   \n",
       "\n",
       "    RoughRange  gpm100  MPG.city  MPG.highway  \n",
       "0         3.09     3.8      22.0           31  \n",
       "3        -0.01     4.3      19.0           27  \n",
       "5         5.18     4.9      16.0           25  \n",
       "9         5.01     4.0      21.0           29  \n",
       "21        1.60     4.2      21.0           27  \n",
       "31        9.21     3.9      21.0           30  \n",
       "33        1.99     4.7      17.0           26  \n",
       "36       -0.02     4.4      19.0           26  \n",
       "38        4.19     3.7      23.0           31  \n",
       "45        6.19     4.3      19.0           27  "
      ]
     },
     "execution_count": 33,
     "metadata": {},
     "output_type": "execute_result"
    }
   ],
   "source": [
    "mask=file[\"Type\"]==\"Midsize\"  \n",
    "file[mask]  "
   ]
  },
  {
   "cell_type": "code",
   "execution_count": 34,
   "metadata": {},
   "outputs": [
    {
     "data": {
      "text/html": [
       "<div>\n",
       "<style scoped>\n",
       "    .dataframe tbody tr th:only-of-type {\n",
       "        vertical-align: middle;\n",
       "    }\n",
       "\n",
       "    .dataframe tbody tr th {\n",
       "        vertical-align: top;\n",
       "    }\n",
       "\n",
       "    .dataframe thead th {\n",
       "        text-align: right;\n",
       "    }\n",
       "</style>\n",
       "<table border=\"1\" class=\"dataframe\">\n",
       "  <thead>\n",
       "    <tr style=\"text-align: right;\">\n",
       "      <th></th>\n",
       "      <th>No. of cars</th>\n",
       "      <th>Type</th>\n",
       "      <th>Type1</th>\n",
       "      <th>Min.Price</th>\n",
       "      <th>Price</th>\n",
       "      <th>Max.Price</th>\n",
       "      <th>Range.Price</th>\n",
       "      <th>RoughRange</th>\n",
       "      <th>gpm100</th>\n",
       "      <th>MPG.city</th>\n",
       "      <th>MPG.highway</th>\n",
       "    </tr>\n",
       "  </thead>\n",
       "  <tbody>\n",
       "    <tr>\n",
       "      <th>0</th>\n",
       "      <td>6</td>\n",
       "      <td>Midsize</td>\n",
       "      <td>Big</td>\n",
       "      <td>14.2</td>\n",
       "      <td>15.7</td>\n",
       "      <td>17.3</td>\n",
       "      <td>3.1</td>\n",
       "      <td>3.09</td>\n",
       "      <td>3.8</td>\n",
       "      <td>22.0</td>\n",
       "      <td>31</td>\n",
       "    </tr>\n",
       "    <tr>\n",
       "      <th>1</th>\n",
       "      <td>7</td>\n",
       "      <td>Large</td>\n",
       "      <td>Big</td>\n",
       "      <td>19.9</td>\n",
       "      <td>20.8</td>\n",
       "      <td>21.7</td>\n",
       "      <td>1.8</td>\n",
       "      <td>1.79</td>\n",
       "      <td>4.2</td>\n",
       "      <td>19.0</td>\n",
       "      <td>28</td>\n",
       "    </tr>\n",
       "    <tr>\n",
       "      <th>2</th>\n",
       "      <td>8</td>\n",
       "      <td>Large</td>\n",
       "      <td>Big</td>\n",
       "      <td>22.6</td>\n",
       "      <td>23.7</td>\n",
       "      <td>24.9</td>\n",
       "      <td>2.3</td>\n",
       "      <td>2.31</td>\n",
       "      <td>4.9</td>\n",
       "      <td>NaN</td>\n",
       "      <td>25</td>\n",
       "    </tr>\n",
       "    <tr>\n",
       "      <th>3</th>\n",
       "      <td>9</td>\n",
       "      <td>Midsize</td>\n",
       "      <td>Big</td>\n",
       "      <td>26.3</td>\n",
       "      <td>26.3</td>\n",
       "      <td>26.3</td>\n",
       "      <td>0.0</td>\n",
       "      <td>-0.01</td>\n",
       "      <td>4.3</td>\n",
       "      <td>19.0</td>\n",
       "      <td>27</td>\n",
       "    </tr>\n",
       "    <tr>\n",
       "      <th>4</th>\n",
       "      <td>10</td>\n",
       "      <td>Large</td>\n",
       "      <td>Big</td>\n",
       "      <td>33.0</td>\n",
       "      <td>34.7</td>\n",
       "      <td>36.3</td>\n",
       "      <td>3.3</td>\n",
       "      <td>3.30</td>\n",
       "      <td>4.9</td>\n",
       "      <td>16.0</td>\n",
       "      <td>25</td>\n",
       "    </tr>\n",
       "  </tbody>\n",
       "</table>\n",
       "</div>"
      ],
      "text/plain": [
       "   No. of cars     Type Type1  Min.Price  Price  Max.Price  Range.Price  \\\n",
       "0            6  Midsize   Big       14.2   15.7       17.3          3.1   \n",
       "1            7    Large   Big       19.9   20.8       21.7          1.8   \n",
       "2            8    Large   Big       22.6   23.7       24.9          2.3   \n",
       "3            9  Midsize   Big       26.3   26.3       26.3          0.0   \n",
       "4           10    Large   Big       33.0   34.7       36.3          3.3   \n",
       "\n",
       "   RoughRange  gpm100  MPG.city  MPG.highway  \n",
       "0        3.09     3.8      22.0           31  \n",
       "1        1.79     4.2      19.0           28  \n",
       "2        2.31     4.9       NaN           25  \n",
       "3       -0.01     4.3      19.0           27  \n",
       "4        3.30     4.9      16.0           25  "
      ]
     },
     "execution_count": 34,
     "metadata": {},
     "output_type": "execute_result"
    }
   ],
   "source": [
    "file.head()"
   ]
  },
  {
   "cell_type": "code",
   "execution_count": null,
   "metadata": {},
   "outputs": [],
   "source": []
  },
  {
   "cell_type": "code",
   "execution_count": 35,
   "metadata": {},
   "outputs": [],
   "source": [
    "#############################   MATPLOTLIB     ##########################################"
   ]
  },
  {
   "cell_type": "code",
   "execution_count": null,
   "metadata": {},
   "outputs": [],
   "source": []
  },
  {
   "cell_type": "code",
   "execution_count": 36,
   "metadata": {},
   "outputs": [],
   "source": [
    "from matplotlib import pyplot as plt "
   ]
  },
  {
   "cell_type": "code",
   "execution_count": 38,
   "metadata": {},
   "outputs": [
    {
     "data": {
      "image/png": "[encoded data removed]",
      "text/plain": [
       "<Figure size 432x288 with 1 Axes>"
      ]
     },
     "metadata": {
      "needs_background": "light"
     },
     "output_type": "display_data"
    }
   ],
   "source": [
    "x=[1,2,3,4,5,6]\n",
    "y=[4,2,9,3,4,6]\n",
    "plt.plot(x,y)\n",
    "plt.xlabel(\"X-axis\")\n",
    "plt.ylabel(\"Y-axis\")\n",
    "plt.title(\"Our First Graph\")\n",
    "plt.show()  "
   ]
  },
  {
   "cell_type": "code",
   "execution_count": 39,
   "metadata": {},
   "outputs": [
    {
     "data": {
      "text/plain": [
       "<BarContainer object of 6 artists>"
      ]
     },
     "execution_count": 39,
     "metadata": {},
     "output_type": "execute_result"
    },
    {
     "data": {
      "image/png": "[encoded data removed]",
      "text/plain": [
       "<Figure size 432x288 with 1 Axes>"
      ]
     },
     "metadata": {
      "needs_background": "light"
     },
     "output_type": "display_data"
    }
   ],
   "source": [
    "x=[1,2,3,4,5,6] \n",
    "y=[4,2,9,3,4,6] \n",
    "label=['One', 'Two', 'Three', 'Four','Five','Six']  \n",
    "plt.bar(x,y,tick_label=label)  "
   ]
  },
  {
   "cell_type": "code",
   "execution_count": null,
   "metadata": {},
   "outputs": [],
   "source": []
  },
  {
   "cell_type": "code",
   "execution_count": null,
   "metadata": {},
   "outputs": [],
   "source": []
  }
 ],
 "metadata": {
  "kernelspec": {
   "display_name": "Python 3",
   "language": "python",
   "name": "python3"
  },
  "language_info": {
   "codemirror_mode": {
    "name": "ipython",
    "version": 3
   },
   "file_extension": ".py",
   "mimetype": "text/x-python",
   "name": "python",
   "nbconvert_exporter": "python",
   "pygments_lexer": "ipython3",
   "version": "3.7.1"
  }
 },
 "nbformat": 4,
 "nbformat_minor": 2
}
